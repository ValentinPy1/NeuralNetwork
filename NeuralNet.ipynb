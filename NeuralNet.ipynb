{
 "cells": [
  {
   "cell_type": "code",
   "execution_count": 134,
   "metadata": {},
   "outputs": [],
   "source": [
    "import numpy as np\n",
    "from scipy import signal\n",
    "import matplotlib.pyplot as plt\n",
    "from random import randint\n",
    "import os\n",
    "import pickle\n",
    "from tqdm.notebook import tqdm"
   ]
  },
  {
   "cell_type": "code",
   "execution_count": 135,
   "metadata": {},
   "outputs": [],
   "source": [
    "class Layer:\n",
    "    def __init__(self):\n",
    "        self.input = None\n",
    "        self.output = None\n",
    "\n",
    "    def forward(self, input):\n",
    "        raise NotImplementedError\n",
    "\n",
    "    def backward(self, output_gradient, learning_rate):\n",
    "        raise NotImplementedError\n",
    "\n",
    "    def save(self, filename):\n",
    "        raise NotImplementedError\n"
   ]
  },
  {
   "cell_type": "code",
   "execution_count": 136,
   "metadata": {},
   "outputs": [],
   "source": [
    "class Dense(Layer):\n",
    "    def __init__(self, input_size, output_size):\n",
    "        self.weights = np.random.randn(output_size, input_size)\n",
    "        self.bias = np.random.randn(output_size, 1)\n",
    "\n",
    "    def forward(self, input):\n",
    "        self.input = input\n",
    "        return np.dot(self.weights, input) + self.bias\n",
    "\n",
    "    def backward(self, output_gradient, learning_rate):\n",
    "        weights_gradient = np.dot(output_gradient, self.input.T)\n",
    "        input_gradient = np.dot(self.weights.T, output_gradient)\n",
    "        self.weights -= learning_rate * weights_gradient\n",
    "        self.bias -= learning_rate * output_gradient\n",
    "        return input_gradient\n",
    "\n",
    "class Dropout(Layer):\n",
    "    def __init__(self, drop_rate):\n",
    "        self.drop_rate = drop_rate\n",
    "        self.mask = None\n",
    "\n",
    "    def forward(self, input):\n",
    "        self.mask = np.random.rand(*input.shape) > self.drop_rate\n",
    "        return input * self.mask\n",
    "\n",
    "    def backward(self, output_gradient, learning_rate):\n",
    "        return output_gradient * self.mask\n"
   ]
  },
  {
   "cell_type": "code",
   "execution_count": 137,
   "metadata": {},
   "outputs": [],
   "source": [
    "class Activation(Layer):\n",
    "    def __init__(self, activation, activation_prime):\n",
    "        self.activation = activation\n",
    "        self.activation_prime = activation_prime\n",
    "\n",
    "    def forward(self, input):\n",
    "        self.input = input\n",
    "        return self.activation(input)\n",
    "\n",
    "    def backward(self, output_gradient, learning_rate):\n",
    "        return np.multiply(output_gradient, self.activation_prime(self.input))\n",
    "\n",
    "class Tanh(Activation):\n",
    "    @staticmethod\n",
    "    def activation(x):\n",
    "        return np.tanh(x)\n",
    "\n",
    "    @staticmethod\n",
    "    def activation_prime(x):\n",
    "        return 1 - np.tanh(x) ** 2\n",
    "\n",
    "    def __init__(self):\n",
    "        super().__init__(Tanh.activation, Tanh.activation_prime)\n",
    "\n",
    "class Sigmoid(Activation):\n",
    "\n",
    "    @staticmethod\n",
    "    def activation(x):\n",
    "        return 1 / (1 + np.exp(-x))\n",
    "\n",
    "    @staticmethod\n",
    "    def activation_prime(x):\n",
    "        sig = Sigmoid.activation(x)\n",
    "        return sig * (1 - sig)\n",
    "\n",
    "    def __init__(self):\n",
    "        super().__init__(Sigmoid.activation, Sigmoid.activation_prime)\n",
    "\n",
    "class ReLU(Activation):\n",
    "    @staticmethod\n",
    "    def activation(x):\n",
    "        return np.maximum(0, x)\n",
    "\n",
    "    @staticmethod\n",
    "    def activation_prime(x):\n",
    "        return np.where(x > 0, 1, 0)\n",
    "\n",
    "    def __init__(self):\n",
    "        super().__init__(ReLU.activation, ReLU.activation_prime)\n",
    "\n",
    "class Softmax(Activation):\n",
    "    @staticmethod\n",
    "    def activation(x):\n",
    "        exp = np.exp(x)\n",
    "        return exp / np.sum(exp, axis=0)\n",
    "\n",
    "    @staticmethod\n",
    "    def activation_prime(x):\n",
    "        return 1\n",
    "\n",
    "    def __init__(self):\n",
    "        super().__init__(Softmax.activation, Softmax.activation_prime)\n"
   ]
  },
  {
   "cell_type": "code",
   "execution_count": 138,
   "metadata": {},
   "outputs": [],
   "source": [
    "class Loss:\n",
    "    def loss(self, y_true, y_pred):\n",
    "        raise NotImplementedError()\n",
    "\n",
    "    def gradient(self, y_true, y_pred):\n",
    "        raise NotImplementedError()\n",
    "\n",
    "class MeanSquaredError(Loss):\n",
    "    def loss(self, y_true, y_pred):\n",
    "        return np.mean(np.power(y_true - y_pred, 2))\n",
    "\n",
    "    def gradient(self, y_true, y_pred):\n",
    "        return 2 * (y_pred - y_true) / y_true.size\n",
    "\n",
    "class BinaryCrossEntropy(Loss):\n",
    "    def loss(self, y_true, y_pred):\n",
    "        epsilon = 1e-15\n",
    "        return -np.mean(np.multiply(y_true, np.log(y_pred + epsilon)) + np.multiply(1 - y_true, np.log(1 - y_pred + epsilon)))\n",
    "\n",
    "    def gradient(self, y_true, y_pred):\n",
    "        epsilon = 1e-15\n",
    "        return np.divide(y_pred - y_true, np.multiply(y_pred + epsilon, 1 - y_pred + epsilon))\n",
    "\n",
    "class CategoricalCrossEntropy(Loss):\n",
    "    def loss(self, y_true, y_pred):\n",
    "        epsilon = 1e-15\n",
    "        y_pred = np.clip(y_pred, epsilon, 1 - epsilon)\n",
    "        return -np.mean(np.sum(y_true * np.log(y_pred), axis=1))\n",
    "\n",
    "    def gradient(self, y_true, y_pred):\n",
    "        epsilon = 1e-15\n",
    "        y_pred = np.clip(y_pred, epsilon, 1 - epsilon)\n",
    "        return y_pred - y_true\n"
   ]
  },
  {
   "cell_type": "code",
   "execution_count": 139,
   "metadata": {},
   "outputs": [],
   "source": [
    "class Optimizer:\n",
    "    def __init__(self, learning_rate):\n",
    "        self.learning_rate = learning_rate\n",
    "\n",
    "    def update(self, layer):\n",
    "        raise NotImplementedError()\n",
    "\n",
    "class SGD:\n",
    "    def __init__(self, learning_rate=0.01):\n",
    "        self.learning_rate = learning_rate\n",
    "\n",
    "    def update(self, weights, gradients):\n",
    "        for w, grad in zip(weights, gradients):\n",
    "            w -= self.learning_rate * grad\n",
    "\n",
    "class Adam:\n",
    "    def __init__(self, learning_rate=0.001, beta_1=0.9, beta_2=0.999, epsilon=1e-7):\n",
    "        self.learning_rate = learning_rate\n",
    "        self.beta_1 = beta_1\n",
    "        self.beta_2 = beta_2\n",
    "        self.epsilon = epsilon\n",
    "        self.m = None  # First moment vector\n",
    "        self.v = None  # Second moment vector\n",
    "        self.t = 0     # Time step\n",
    "\n",
    "    def update(self, weights, gradients):\n",
    "        if self.m is None:\n",
    "            self.m = [np.zeros_like(w) for w in weights]\n",
    "        if self.v is None:\n",
    "            self.v = [np.zeros_like(w) for w in weights]\n",
    "\n",
    "        self.t += 1\n",
    "        for i, (w, grad) in enumerate(zip(weights, gradients)):\n",
    "            self.m[i] = self.beta_1 * self.m[i] + (1 - self.beta_1) * grad\n",
    "            self.v[i] = self.beta_2 * self.v[i] + (1 - self.beta_2) * (grad ** 2)\n",
    "\n",
    "            m_hat = self.m[i] / (1 - self.beta_1 ** self.t)\n",
    "            v_hat = self.v[i] / (1 - self.beta_2 ** self.t)\n",
    "\n",
    "            w -= self.learning_rate * m_hat / (np.sqrt(v_hat) + self.epsilon)\n"
   ]
  },
  {
   "cell_type": "code",
   "execution_count": 140,
   "metadata": {},
   "outputs": [],
   "source": [
    "def test_model(model, x_test, y_test):\n",
    "    correct = 0\n",
    "    predictions = np.argmax(model.predict(x_test), axis=0)\n",
    "    real = np.argmax(y_test, axis=0)\n",
    "    correct = np.sum(predictions == real)\n",
    "    return correct / len(x_test)"
   ]
  },
  {
   "cell_type": "code",
   "execution_count": 141,
   "metadata": {},
   "outputs": [],
   "source": [
    "def test_across(model, x_test, y_test):\n",
    "    predictions = [0, 0, 0, 0]\n",
    "    count = [0, 0, 0, 0]\n",
    "    success = [0, 0, 0, 0]\n",
    "    for x, y in zip(x_test, y_test):\n",
    "        output = model.predict_one(x)\n",
    "        pred = np.argmax(output)\n",
    "        predictions[pred] += 1\n",
    "        real = np.argmax(y)\n",
    "        count[real] += 1\n",
    "        if pred == real:\n",
    "            success[real] += 1\n",
    "    return ([pred / count[i] for i, pred in enumerate(predictions)], [succ / count[i] for i, succ in enumerate(success)])"
   ]
  },
  {
   "cell_type": "code",
   "execution_count": 142,
   "metadata": {},
   "outputs": [],
   "source": [
    "class Network(Layer):\n",
    "    def __init__(self, layers):\n",
    "        self.layers = layers\n",
    "    \n",
    "    def forward(self, input):\n",
    "        output = input\n",
    "        for layer in self.layers:\n",
    "            output = layer.forward(output)\n",
    "        return output\n",
    "    \n",
    "    def backward(self, output_error, learning_rate):\n",
    "        for layer in reversed(self.layers):\n",
    "            output_error = layer.backward(output_error, learning_rate)\n",
    "        return output_error\n",
    "\n",
    "class Model:\n",
    "    def __init__(self, network, loss, x_test, y_test):\n",
    "        self.network = Network(network)\n",
    "        self.loss = loss\n",
    "        self.x_test = x_test\n",
    "        self.y_test = y_test\n",
    "        self.train_loss = []\n",
    "        self.test_loss = []\n",
    "        self.train_acc = []\n",
    "        self.test_acc = []\n",
    "    \n",
    "    def train(self, x_train, y_train, epochs, learning_rate, early_stop=-1, verbose=False):\n",
    "        learning_rate = learning_rate / len(x_train)\n",
    "        perm = np.random.permutation(len(x_train))\n",
    "        x_train = x_train[perm]\n",
    "        y_train = y_train[perm]\n",
    "        for epoch in range(epochs):\n",
    "            mean_loss = 0\n",
    "            for i in tqdm(range(0, len(x_train))):\n",
    "                x = x_train[i]\n",
    "                y = y_train[i]\n",
    "                output = self.network.forward(x)\n",
    "                loss = self.loss.loss(y, output)\n",
    "                mean_loss += loss\n",
    "                loss_gradient = self.loss.gradient(y, output)\n",
    "                self.network.backward(loss_gradient, learning_rate)\n",
    "                if early_stop > 0 and len(self.test_acc) > early_stop and self.test_acc[-1] <= self.test_acc[-early_stop]:\n",
    "                    return\n",
    "            mean_loss /= len(x_train)\n",
    "            self.train_loss.append(mean_loss)\n",
    "            for x, y in zip(self.x_test, self.y_test):\n",
    "                output = self.network.forward(x)\n",
    "                loss = self.loss.loss(y, output)\n",
    "                mean_loss += loss\n",
    "            mean_loss /= len(x_train)\n",
    "            self.train_loss.append(mean_loss)\n",
    "            test_loss, test_acc = self.evaluate(self.x_test, self.y_test)\n",
    "            self.test_loss.append(test_loss)\n",
    "            self.test_acc.append(test_acc)\n",
    "            \n",
    "            if verbose:\n",
    "                print(f\"Epoch {epoch + 1} - Train loss: {round(self.train_loss[-1], 4)} - Test loss: {round(self.test_loss[-1], 4)} - Test acc: {round(self.test_acc[-1], 4)}\")\n",
    "    \n",
    "    def evaluate(self, x_data, y_data):\n",
    "        total_loss = 0\n",
    "        correct_predictions = 0\n",
    "        for x, y in zip(x_data, y_data):\n",
    "            output = self.network.forward(x)\n",
    "            total_loss += self.loss.loss(y, output)\n",
    "            if np.argmax(output) == np.argmax(y):\n",
    "                correct_predictions += 1\n",
    "        avg_loss = total_loss / len(x_data)\n",
    "        accuracy = correct_predictions / len(x_data)\n",
    "        return avg_loss, accuracy\n",
    "\n",
    "    def predict_one(self, x_test):\n",
    "        return self.network.forward(x_test)\n",
    "\n",
    "    def predict(self, x_test):\n",
    "        y_pred = []\n",
    "        for x in x_test:\n",
    "            y_pred.append(self.network.forward(x))\n",
    "        return np.array(y_pred).squeeze()\n",
    "\n",
    "    def save(self, path):\n",
    "        with open(path, \"wb\") as f:\n",
    "            pickle.dump(self, f)\n",
    "\n",
    "    @staticmethod\n",
    "    def load(path):\n",
    "        with open(path, \"rb\") as f:\n",
    "            return pickle.load(f)\n"
   ]
  },
  {
   "cell_type": "code",
   "execution_count": 143,
   "metadata": {},
   "outputs": [
    {
     "name": "stdout",
     "output_type": "stream",
     "text": [
      "(96272, 69)\n"
     ]
    }
   ],
   "source": [
    "from parseGpt import load_chess_data\n",
    "\n",
    "x, y = load_chess_data(\"datasets/balanced.txt\")\n",
    "\n",
    "print(x.shape)\n",
    "\n",
    "def one_hot_encode(x):\n",
    "    one_hot = np.zeros((x.shape[0], 69, 13))\n",
    "    for i in range(x.shape[0]):\n",
    "        for j in range(69):\n",
    "            one_hot[i][j][x[i][j]] = 1\n",
    "    return one_hot\n",
    "\n",
    "def flatten(x):\n",
    "    return x.reshape(x.shape[0], x.shape[1] * x.shape[2])\n",
    "\n",
    "def preprocess_data(x, y, split):\n",
    "    x = one_hot_encode(x)\n",
    "    x = flatten(x)\n",
    "    x_train = x.reshape(x.shape[0], x.shape[1], 1)\n",
    "    y_train = y.reshape(y.shape[0], y.shape[1], 1)\n",
    "    perm = np.random.permutation(len(x_train))\n",
    "    x_train = x_train[perm]\n",
    "    y_train = y_train[perm]\n",
    "    split_index = int(split * len(x_train))\n",
    "    x_train, x_test = x_train[:split_index], x_train[split_index:]\n",
    "    y_train, y_test = y_train[:split_index], y_train[split_index:]\n",
    "    return x_train, y_train, x_test, y_test\n",
    "\n",
    "x_train, y_train, x_test, y_test = preprocess_data(x, y, 0.95)"
   ]
  },
  {
   "cell_type": "code",
   "execution_count": 144,
   "metadata": {},
   "outputs": [
    {
     "data": {
      "application/vnd.jupyter.widget-view+json": {
       "model_id": "28db3ff20a7c460292b5dcf95ebc944b",
       "version_major": 2,
       "version_minor": 0
      },
      "text/plain": [
       "  0%|          | 0/91458 [00:00<?, ?it/s]"
      ]
     },
     "metadata": {},
     "output_type": "display_data"
    },
    {
     "ename": "KeyboardInterrupt",
     "evalue": "",
     "output_type": "error",
     "traceback": [
      "\u001b[0;31m---------------------------------------------------------------------------\u001b[0m",
      "\u001b[0;31mKeyboardInterrupt\u001b[0m                         Traceback (most recent call last)",
      "Cell \u001b[0;32mIn[144], line 10\u001b[0m\n\u001b[1;32m      8\u001b[0m model \u001b[38;5;241m=\u001b[39m Model(layers, BinaryCrossEntropy(), x_test, y_test)\n\u001b[1;32m      9\u001b[0m test_model(model, x_test, y_test)\n\u001b[0;32m---> 10\u001b[0m \u001b[43mmodel\u001b[49m\u001b[38;5;241;43m.\u001b[39;49m\u001b[43mtrain\u001b[49m\u001b[43m(\u001b[49m\u001b[43mx_train\u001b[49m\u001b[43m,\u001b[49m\u001b[43m \u001b[49m\u001b[43my_train\u001b[49m\u001b[43m,\u001b[49m\u001b[43m \u001b[49m\u001b[38;5;241;43m3\u001b[39;49m\u001b[43m,\u001b[49m\u001b[43m \u001b[49m\u001b[38;5;241;43m10\u001b[39;49m\u001b[43m,\u001b[49m\u001b[43m \u001b[49m\u001b[43mverbose\u001b[49m\u001b[38;5;241;43m=\u001b[39;49m\u001b[38;5;28;43;01mTrue\u001b[39;49;00m\u001b[43m)\u001b[49m\n",
      "Cell \u001b[0;32mIn[142], line 37\u001b[0m, in \u001b[0;36mModel.train\u001b[0;34m(self, x_train, y_train, epochs, learning_rate, early_stop, verbose)\u001b[0m\n\u001b[1;32m     35\u001b[0m x \u001b[38;5;241m=\u001b[39m x_train[i]\n\u001b[1;32m     36\u001b[0m y \u001b[38;5;241m=\u001b[39m y_train[i]\n\u001b[0;32m---> 37\u001b[0m output \u001b[38;5;241m=\u001b[39m \u001b[38;5;28;43mself\u001b[39;49m\u001b[38;5;241;43m.\u001b[39;49m\u001b[43mnetwork\u001b[49m\u001b[38;5;241;43m.\u001b[39;49m\u001b[43mforward\u001b[49m\u001b[43m(\u001b[49m\u001b[43mx\u001b[49m\u001b[43m)\u001b[49m\n\u001b[1;32m     38\u001b[0m loss \u001b[38;5;241m=\u001b[39m \u001b[38;5;28mself\u001b[39m\u001b[38;5;241m.\u001b[39mloss\u001b[38;5;241m.\u001b[39mloss(y, output)\n\u001b[1;32m     39\u001b[0m mean_loss \u001b[38;5;241m+\u001b[39m\u001b[38;5;241m=\u001b[39m loss\n",
      "Cell \u001b[0;32mIn[142], line 8\u001b[0m, in \u001b[0;36mNetwork.forward\u001b[0;34m(self, input)\u001b[0m\n\u001b[1;32m      6\u001b[0m output \u001b[38;5;241m=\u001b[39m \u001b[38;5;28minput\u001b[39m\n\u001b[1;32m      7\u001b[0m \u001b[38;5;28;01mfor\u001b[39;00m layer \u001b[38;5;129;01min\u001b[39;00m \u001b[38;5;28mself\u001b[39m\u001b[38;5;241m.\u001b[39mlayers:\n\u001b[0;32m----> 8\u001b[0m     output \u001b[38;5;241m=\u001b[39m \u001b[43mlayer\u001b[49m\u001b[38;5;241;43m.\u001b[39;49m\u001b[43mforward\u001b[49m\u001b[43m(\u001b[49m\u001b[43moutput\u001b[49m\u001b[43m)\u001b[49m\n\u001b[1;32m      9\u001b[0m \u001b[38;5;28;01mreturn\u001b[39;00m output\n",
      "Cell \u001b[0;32mIn[137], line 8\u001b[0m, in \u001b[0;36mActivation.forward\u001b[0;34m(self, input)\u001b[0m\n\u001b[1;32m      6\u001b[0m \u001b[38;5;28;01mdef\u001b[39;00m \u001b[38;5;21mforward\u001b[39m(\u001b[38;5;28mself\u001b[39m, \u001b[38;5;28minput\u001b[39m):\n\u001b[1;32m      7\u001b[0m     \u001b[38;5;28mself\u001b[39m\u001b[38;5;241m.\u001b[39minput \u001b[38;5;241m=\u001b[39m \u001b[38;5;28minput\u001b[39m\n\u001b[0;32m----> 8\u001b[0m     \u001b[38;5;28;01mreturn\u001b[39;00m \u001b[38;5;28;43mself\u001b[39;49m\u001b[38;5;241;43m.\u001b[39;49m\u001b[43mactivation\u001b[49m\u001b[43m(\u001b[49m\u001b[38;5;28;43minput\u001b[39;49m\u001b[43m)\u001b[49m\n",
      "Cell \u001b[0;32mIn[137], line 42\u001b[0m, in \u001b[0;36mReLU.activation\u001b[0;34m(x)\u001b[0m\n\u001b[1;32m     40\u001b[0m \u001b[38;5;129m@staticmethod\u001b[39m\n\u001b[1;32m     41\u001b[0m \u001b[38;5;28;01mdef\u001b[39;00m \u001b[38;5;21mactivation\u001b[39m(x):\n\u001b[0;32m---> 42\u001b[0m     \u001b[38;5;28;01mreturn\u001b[39;00m \u001b[43mnp\u001b[49m\u001b[38;5;241;43m.\u001b[39;49m\u001b[43mmaximum\u001b[49m\u001b[43m(\u001b[49m\u001b[38;5;241;43m0\u001b[39;49m\u001b[43m,\u001b[49m\u001b[43m \u001b[49m\u001b[43mx\u001b[49m\u001b[43m)\u001b[49m\n",
      "\u001b[0;31mKeyboardInterrupt\u001b[0m: "
     ]
    }
   ],
   "source": [
    "layers = [\n",
    "    Dense(897, 64),\n",
    "    ReLU(),\n",
    "    Dense(64, 4),\n",
    "    Sigmoid()\n",
    "]\n",
    "\n",
    "model = Model(layers, BinaryCrossEntropy(), x_test, y_test)\n",
    "test_model(model, x_test, y_test)\n",
    "model.train(x_train, y_train, 3, 10, verbose=True)"
   ]
  },
  {
   "cell_type": "code",
   "execution_count": null,
   "metadata": {},
   "outputs": [
    {
     "data": {
      "application/vnd.jupyter.widget-view+json": {
       "model_id": "798c94097b9e42088d3a8ad56db17058",
       "version_major": 2,
       "version_minor": 0
      },
      "text/plain": [
       "  0%|          | 0/91458 [00:00<?, ?it/s]"
      ]
     },
     "metadata": {},
     "output_type": "display_data"
    },
    {
     "name": "stdout",
     "output_type": "stream",
     "text": [
      "Epoch 1 - Train loss: 0.0278 - Test loss: 0.5278 - Test acc: 0.3897\n"
     ]
    },
    {
     "data": {
      "application/vnd.jupyter.widget-view+json": {
       "model_id": "aa75b39c14764d32810494ef19caa742",
       "version_major": 2,
       "version_minor": 0
      },
      "text/plain": [
       "  0%|          | 0/91458 [00:00<?, ?it/s]"
      ]
     },
     "metadata": {},
     "output_type": "display_data"
    },
    {
     "name": "stdout",
     "output_type": "stream",
     "text": [
      "Epoch 2 - Train loss: 0.0277 - Test loss: 0.5268 - Test acc: 0.3899\n"
     ]
    },
    {
     "data": {
      "application/vnd.jupyter.widget-view+json": {
       "model_id": "06104820764c4325a9d88ad6acc3e0e6",
       "version_major": 2,
       "version_minor": 0
      },
      "text/plain": [
       "  0%|          | 0/91458 [00:00<?, ?it/s]"
      ]
     },
     "metadata": {},
     "output_type": "display_data"
    },
    {
     "ename": "KeyboardInterrupt",
     "evalue": "",
     "output_type": "error",
     "traceback": [
      "\u001b[0;31m---------------------------------------------------------------------------\u001b[0m",
      "\u001b[0;31mKeyboardInterrupt\u001b[0m                         Traceback (most recent call last)",
      "Cell \u001b[0;32mIn[119], line 1\u001b[0m\n\u001b[0;32m----> 1\u001b[0m \u001b[43mmodel\u001b[49m\u001b[38;5;241;43m.\u001b[39;49m\u001b[43mtrain\u001b[49m\u001b[43m(\u001b[49m\u001b[43mx_train\u001b[49m\u001b[43m,\u001b[49m\u001b[43m \u001b[49m\u001b[43my_train\u001b[49m\u001b[43m,\u001b[49m\u001b[43m \u001b[49m\u001b[38;5;241;43m3\u001b[39;49m\u001b[43m,\u001b[49m\u001b[43m \u001b[49m\u001b[38;5;241;43m1\u001b[39;49m\u001b[43m,\u001b[49m\u001b[43m \u001b[49m\u001b[43mverbose\u001b[49m\u001b[38;5;241;43m=\u001b[39;49m\u001b[38;5;28;43;01mTrue\u001b[39;49;00m\u001b[43m)\u001b[49m\n",
      "Cell \u001b[0;32mIn[116], line 41\u001b[0m, in \u001b[0;36mModel.train\u001b[0;34m(self, x_train, y_train, epochs, learning_rate, early_stop, verbose)\u001b[0m\n\u001b[1;32m     39\u001b[0m mean_loss \u001b[38;5;241m+\u001b[39m\u001b[38;5;241m=\u001b[39m loss\n\u001b[1;32m     40\u001b[0m loss_gradient \u001b[38;5;241m=\u001b[39m \u001b[38;5;28mself\u001b[39m\u001b[38;5;241m.\u001b[39mloss\u001b[38;5;241m.\u001b[39mgradient(y, output)\n\u001b[0;32m---> 41\u001b[0m \u001b[38;5;28;43mself\u001b[39;49m\u001b[38;5;241;43m.\u001b[39;49m\u001b[43mnetwork\u001b[49m\u001b[38;5;241;43m.\u001b[39;49m\u001b[43mbackward\u001b[49m\u001b[43m(\u001b[49m\u001b[43mloss_gradient\u001b[49m\u001b[43m,\u001b[49m\u001b[43m \u001b[49m\u001b[43mlearning_rate\u001b[49m\u001b[43m)\u001b[49m\n\u001b[1;32m     42\u001b[0m \u001b[38;5;28;01mif\u001b[39;00m early_stop \u001b[38;5;241m>\u001b[39m \u001b[38;5;241m0\u001b[39m \u001b[38;5;129;01mand\u001b[39;00m \u001b[38;5;28mlen\u001b[39m(\u001b[38;5;28mself\u001b[39m\u001b[38;5;241m.\u001b[39mtest_acc) \u001b[38;5;241m>\u001b[39m early_stop \u001b[38;5;129;01mand\u001b[39;00m \u001b[38;5;28mself\u001b[39m\u001b[38;5;241m.\u001b[39mtest_acc[\u001b[38;5;241m-\u001b[39m\u001b[38;5;241m1\u001b[39m] \u001b[38;5;241m<\u001b[39m\u001b[38;5;241m=\u001b[39m \u001b[38;5;28mself\u001b[39m\u001b[38;5;241m.\u001b[39mtest_acc[\u001b[38;5;241m-\u001b[39mearly_stop]:\n\u001b[1;32m     43\u001b[0m     \u001b[38;5;28;01mreturn\u001b[39;00m\n",
      "Cell \u001b[0;32mIn[116], line 13\u001b[0m, in \u001b[0;36mNetwork.backward\u001b[0;34m(self, output_error, learning_rate)\u001b[0m\n\u001b[1;32m     11\u001b[0m \u001b[38;5;28;01mdef\u001b[39;00m \u001b[38;5;21mbackward\u001b[39m(\u001b[38;5;28mself\u001b[39m, output_error, learning_rate):\n\u001b[1;32m     12\u001b[0m     \u001b[38;5;28;01mfor\u001b[39;00m layer \u001b[38;5;129;01min\u001b[39;00m \u001b[38;5;28mreversed\u001b[39m(\u001b[38;5;28mself\u001b[39m\u001b[38;5;241m.\u001b[39mlayers):\n\u001b[0;32m---> 13\u001b[0m         output_error \u001b[38;5;241m=\u001b[39m \u001b[43mlayer\u001b[49m\u001b[38;5;241;43m.\u001b[39;49m\u001b[43mbackward\u001b[49m\u001b[43m(\u001b[49m\u001b[43moutput_error\u001b[49m\u001b[43m,\u001b[49m\u001b[43m \u001b[49m\u001b[43mlearning_rate\u001b[49m\u001b[43m)\u001b[49m\n\u001b[1;32m     14\u001b[0m     \u001b[38;5;28;01mreturn\u001b[39;00m output_error\n",
      "Cell \u001b[0;32mIn[110], line 12\u001b[0m, in \u001b[0;36mDense.backward\u001b[0;34m(self, output_gradient, learning_rate)\u001b[0m\n\u001b[1;32m     10\u001b[0m \u001b[38;5;28;01mdef\u001b[39;00m \u001b[38;5;21mbackward\u001b[39m(\u001b[38;5;28mself\u001b[39m, output_gradient, learning_rate):\n\u001b[1;32m     11\u001b[0m     weights_gradient \u001b[38;5;241m=\u001b[39m np\u001b[38;5;241m.\u001b[39mdot(output_gradient, \u001b[38;5;28mself\u001b[39m\u001b[38;5;241m.\u001b[39minput\u001b[38;5;241m.\u001b[39mT)\n\u001b[0;32m---> 12\u001b[0m     input_gradient \u001b[38;5;241m=\u001b[39m \u001b[43mnp\u001b[49m\u001b[38;5;241;43m.\u001b[39;49m\u001b[43mdot\u001b[49m\u001b[43m(\u001b[49m\u001b[38;5;28;43mself\u001b[39;49m\u001b[38;5;241;43m.\u001b[39;49m\u001b[43mweights\u001b[49m\u001b[38;5;241;43m.\u001b[39;49m\u001b[43mT\u001b[49m\u001b[43m,\u001b[49m\u001b[43m \u001b[49m\u001b[43moutput_gradient\u001b[49m\u001b[43m)\u001b[49m\n\u001b[1;32m     13\u001b[0m     \u001b[38;5;28mself\u001b[39m\u001b[38;5;241m.\u001b[39mweights \u001b[38;5;241m-\u001b[39m\u001b[38;5;241m=\u001b[39m learning_rate \u001b[38;5;241m*\u001b[39m weights_gradient\n\u001b[1;32m     14\u001b[0m     \u001b[38;5;28mself\u001b[39m\u001b[38;5;241m.\u001b[39mbias \u001b[38;5;241m-\u001b[39m\u001b[38;5;241m=\u001b[39m learning_rate \u001b[38;5;241m*\u001b[39m output_gradient\n",
      "File \u001b[0;32m<__array_function__ internals>:200\u001b[0m, in \u001b[0;36mdot\u001b[0;34m(*args, **kwargs)\u001b[0m\n",
      "\u001b[0;31mKeyboardInterrupt\u001b[0m: "
     ]
    }
   ],
   "source": [
    "model.train(x_train, y_train, 3, 1, verbose=True)"
   ]
  },
  {
   "cell_type": "code",
   "execution_count": null,
   "metadata": {},
   "outputs": [
    {
     "ename": "PicklingError",
     "evalue": "Can't pickle <class '__main__.Model'>: it's not the same object as __main__.Model",
     "output_type": "error",
     "traceback": [
      "\u001b[0;31m---------------------------------------------------------------------------\u001b[0m",
      "\u001b[0;31mPicklingError\u001b[0m                             Traceback (most recent call last)",
      "Cell \u001b[0;32mIn[131], line 1\u001b[0m\n\u001b[0;32m----> 1\u001b[0m \u001b[43mmodel\u001b[49m\u001b[38;5;241;43m.\u001b[39;49m\u001b[43msave\u001b[49m\u001b[43m(\u001b[49m\u001b[38;5;124;43m\"\u001b[39;49m\u001b[38;5;124;43mmodels/model_small\u001b[39;49m\u001b[38;5;124;43m\"\u001b[39;49m\u001b[43m)\u001b[49m\n",
      "Cell \u001b[0;32mIn[130], line 63\u001b[0m, in \u001b[0;36mModel.save\u001b[0;34m(self, path)\u001b[0m\n\u001b[1;32m     61\u001b[0m \u001b[38;5;28;01mdef\u001b[39;00m \u001b[38;5;21msave\u001b[39m(\u001b[38;5;28mself\u001b[39m, path):\n\u001b[1;32m     62\u001b[0m     \u001b[38;5;28;01mwith\u001b[39;00m \u001b[38;5;28mopen\u001b[39m(path, \u001b[38;5;124m\"\u001b[39m\u001b[38;5;124mwb\u001b[39m\u001b[38;5;124m\"\u001b[39m) \u001b[38;5;28;01mas\u001b[39;00m f:\n\u001b[0;32m---> 63\u001b[0m         \u001b[43mpickle\u001b[49m\u001b[38;5;241;43m.\u001b[39;49m\u001b[43mdump\u001b[49m\u001b[43m(\u001b[49m\u001b[38;5;28;43mself\u001b[39;49m\u001b[43m,\u001b[49m\u001b[43m \u001b[49m\u001b[43mf\u001b[49m\u001b[43m)\u001b[49m\n",
      "\u001b[0;31mPicklingError\u001b[0m: Can't pickle <class '__main__.Model'>: it's not the same object as __main__.Model"
     ]
    }
   ],
   "source": [
    "model.save(\"models/model_small\")"
   ]
  },
  {
   "cell_type": "code",
   "execution_count": null,
   "metadata": {},
   "outputs": [
    {
     "data": {
      "image/png": "[encoded data removed]",
      "text/plain": [
       "<Figure size 640x480 with 1 Axes>"
      ]
     },
     "metadata": {},
     "output_type": "display_data"
    },
    {
     "data": {
      "image/png": "[encoded data removed]",
      "text/plain": [
       "<Figure size 640x480 with 1 Axes>"
      ]
     },
     "metadata": {},
     "output_type": "display_data"
    }
   ],
   "source": [
    "plt.plot(model.train_loss)\n",
    "plt.plot(model.test_loss)\n",
    "plt.legend([\"Train\", \"Test\"])\n",
    "plt.show()\n",
    "\n",
    "plt.plot(model.train_acc)\n",
    "plt.plot(model.test_acc)\n",
    "plt.legend([\"Train\", \"Test\"])\n",
    "plt.show()"
   ]
  },
  {
   "cell_type": "code",
   "execution_count": null,
   "metadata": {},
   "outputs": [],
   "source": [
    "model.save(\"model.npz\")"
   ]
  }
 ],
 "metadata": {
  "kernelspec": {
   "display_name": "Python 3",
   "language": "python",
   "name": "python3"
  },
  "language_info": {
   "codemirror_mode": {
    "name": "ipython",
    "version": 3
   },
   "file_extension": ".py",
   "mimetype": "text/x-python",
   "name": "python",
   "nbconvert_exporter": "python",
   "pygments_lexer": "ipython3",
   "version": "3.11.6"
  }
 },
 "nbformat": 4,
 "nbformat_minor": 2
}
