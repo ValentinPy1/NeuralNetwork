{
 "cells": [
  {
   "cell_type": "code",
   "execution_count": 154,
   "metadata": {},
   "outputs": [],
   "source": [
    "import numpy as np\n",
    "from scipy import signal\n",
    "import matplotlib.pyplot as plt\n",
    "from random import randint\n",
    "import os\n",
    "import pickle\n",
    "from tqdm.notebook import tqdm"
   ]
  },
  {
   "cell_type": "code",
   "execution_count": 155,
   "metadata": {},
   "outputs": [],
   "source": [
    "class Layer:\n",
    "    def __init__(self):\n",
    "        self.input = None\n",
    "        self.output = None\n",
    "\n",
    "    def forward(self, input):\n",
    "        raise NotImplementedError\n",
    "\n",
    "    def backward(self, output_gradient, learning_rate):\n",
    "        raise NotImplementedError\n",
    "\n",
    "    def save(self, filename):\n",
    "        raise NotImplementedError\n"
   ]
  },
  {
   "cell_type": "code",
   "execution_count": 156,
   "metadata": {},
   "outputs": [],
   "source": [
    "class Dense(Layer):\n",
    "    def __init__(self, input_size, output_size):\n",
    "        self.weights = np.random.randn(output_size, input_size)\n",
    "        self.bias = np.random.randn(output_size, 1)\n",
    "\n",
    "    def forward(self, input):\n",
    "        self.input = input\n",
    "        return np.dot(input, self.weights.T) + self.bias.T\n",
    "\n",
    "    def backward(self, output_gradient, learning_rate):\n",
    "        input_gradient = np.dot(output_gradient, self.weights)\n",
    "        weights_gradient = np.dot(output_gradient.T, self.input)\n",
    "        bias_gradient = np.sum(output_gradient, axis=0, keepdims=True).T\n",
    "        self.weights -= learning_rate * weights_gradient\n",
    "        self.bias -= learning_rate * bias_gradient\n",
    "        return input_gradient\n",
    "\n",
    "class Dropout(Layer):\n",
    "    def __init__(self, drop_rate):\n",
    "        self.drop_rate = drop_rate\n",
    "        self.mask = None\n",
    "\n",
    "    def forward(self, input):\n",
    "        self.mask = np.random.rand(*input.shape) > self.drop_rate\n",
    "        return input * self.mask\n",
    "\n",
    "    def backward(self, output_gradient, learning_rate):\n",
    "        return output_gradient * self.mask\n"
   ]
  },
  {
   "cell_type": "code",
   "execution_count": 157,
   "metadata": {},
   "outputs": [
    {
     "data": {
      "text/plain": [
       "array([[-29.18553587, -11.99122174,  13.30684247, ..., -19.51583263,\n",
       "         -6.08208852,   5.3645683 ],\n",
       "       [  7.26055746,  -7.65404295,   5.68087853, ..., -11.85472547,\n",
       "         -5.86516663,   4.24094889],\n",
       "       [ 43.89823154, -20.06912804,  24.45650413, ..., -25.36360383,\n",
       "        -16.54573236,   7.52945217],\n",
       "       ...,\n",
       "       [ 11.25690671, -12.197378  ,   6.97818049, ..., -15.38594739,\n",
       "         -8.20126499,   6.31887138],\n",
       "       [ 12.87099292, -18.88796095,   2.17402861, ..., -18.59977956,\n",
       "        -10.29938853,  10.43551226],\n",
       "       [  1.37197798, -19.8413537 ,   4.40858038, ..., -16.6046752 ,\n",
       "         -9.02314732,   9.51797898]])"
      ]
     },
     "execution_count": 157,
     "metadata": {},
     "output_type": "execute_result"
    }
   ],
   "source": [
    "layer = Dense(897, 64)\n",
    "layer2 = Dense(64, 4)\n",
    "result = layer.forward(x_train[:32])\n",
    "result = layer2.forward(result)\n",
    "\n",
    "loss = MeanSquaredError()\n",
    "loss_gradient = loss.gradient(y_train[:32], result)\n",
    "# print(loss_gradient.shape) # (32, 4)\n",
    "result = layer2.backward(loss_gradient, 0.001)\n",
    "result = layer.backward(result, 0.001)\n",
    "result"
   ]
  },
  {
   "cell_type": "code",
   "execution_count": 158,
   "metadata": {},
   "outputs": [],
   "source": [
    "class Activation(Layer):\n",
    "    def __init__(self, activation, activation_prime):\n",
    "        self.activation = activation\n",
    "        self.activation_prime = activation_prime\n",
    "\n",
    "    def forward(self, input):\n",
    "        self.input = input\n",
    "        return self.activation(input)\n",
    "\n",
    "    def backward(self, output_gradient, learning_rate):\n",
    "        return np.multiply(output_gradient, self.activation_prime(self.input))\n",
    "\n",
    "class Tanh(Activation):\n",
    "    @staticmethod\n",
    "    def activation(x):\n",
    "        return np.tanh(x)\n",
    "\n",
    "    @staticmethod\n",
    "    def activation_prime(x):\n",
    "        return 1 - np.tanh(x) ** 2\n",
    "\n",
    "    def __init__(self):\n",
    "        super().__init__(Tanh.activation, Tanh.activation_prime)\n",
    "\n",
    "class Sigmoid(Activation):\n",
    "\n",
    "    @staticmethod\n",
    "    def activation(x):\n",
    "        return 1 / (1 + np.exp(-x))\n",
    "\n",
    "    @staticmethod\n",
    "    def activation_prime(x):\n",
    "        sig = Sigmoid.activation(x)\n",
    "        return sig * (1 - sig)\n",
    "\n",
    "    def __init__(self):\n",
    "        super().__init__(Sigmoid.activation, Sigmoid.activation_prime)\n",
    "\n",
    "class ReLU(Activation):\n",
    "    @staticmethod\n",
    "    def activation(x):\n",
    "        return np.maximum(0, x)\n",
    "\n",
    "    @staticmethod\n",
    "    def activation_prime(x):\n",
    "        return np.where(x > 0, 1, 0)\n",
    "\n",
    "    def __init__(self):\n",
    "        super().__init__(ReLU.activation, ReLU.activation_prime)\n",
    "\n",
    "class Softmax(Activation):\n",
    "    @staticmethod\n",
    "    def activation(x):\n",
    "        exp = np.exp(x)\n",
    "        return exp / np.sum(exp, axis=0)\n",
    "\n",
    "    @staticmethod\n",
    "    def activation_prime(x):\n",
    "        return 1\n",
    "\n",
    "    def __init__(self):\n",
    "        super().__init__(Softmax.activation, Softmax.activation_prime)\n"
   ]
  },
  {
   "cell_type": "code",
   "execution_count": 159,
   "metadata": {},
   "outputs": [],
   "source": [
    "class Loss:\n",
    "    def loss(self, y_true, y_pred):\n",
    "        raise NotImplementedError()\n",
    "\n",
    "    def gradient(self, y_true, y_pred):\n",
    "        raise NotImplementedError()\n",
    "\n",
    "class MeanSquaredError(Loss):\n",
    "    def loss(self, y_true, y_pred):\n",
    "        return np.mean(np.power(y_true - y_pred, 2))\n",
    "\n",
    "    def gradient(self, y_true, y_pred):\n",
    "        return 2 * (y_pred - y_true) / y_true.size\n",
    "\n",
    "class BinaryCrossEntropy(Loss):\n",
    "    def loss(self, y_true, y_pred):\n",
    "        epsilon = 1e-15\n",
    "        return -np.mean(np.multiply(y_true, np.log(y_pred + epsilon)) + np.multiply(1 - y_true, np.log(1 - y_pred + epsilon)))\n",
    "\n",
    "    def gradient(self, y_true, y_pred):\n",
    "        epsilon = 1e-15\n",
    "        return np.divide(y_pred - y_true, np.multiply(y_pred + epsilon, 1 - y_pred + epsilon))\n",
    "\n",
    "class CategoricalCrossEntropy(Loss):\n",
    "    def loss(self, y_true, y_pred):\n",
    "        epsilon = 1e-15\n",
    "        y_pred = np.clip(y_pred, epsilon, 1 - epsilon)\n",
    "        return -np.mean(np.sum(y_true * np.log(y_pred), axis=1))\n",
    "\n",
    "    def gradient(self, y_true, y_pred):\n",
    "        epsilon = 1e-15\n",
    "        y_pred = np.clip(y_pred, epsilon, 1 - epsilon)\n",
    "        return y_pred - y_true\n"
   ]
  },
  {
   "cell_type": "code",
   "execution_count": 160,
   "metadata": {},
   "outputs": [],
   "source": [
    "class Optimizer:\n",
    "    def __init__(self, learning_rate):\n",
    "        self.learning_rate = learning_rate\n",
    "\n",
    "    def update(self, layer):\n",
    "        raise NotImplementedError()\n",
    "\n",
    "class SGD:\n",
    "    def __init__(self, learning_rate=0.01):\n",
    "        self.learning_rate = learning_rate\n",
    "\n",
    "    def update(self, weights, gradients):\n",
    "        for w, grad in zip(weights, gradients):\n",
    "            w -= self.learning_rate * grad\n",
    "\n",
    "class Adam:\n",
    "    def __init__(self, learning_rate=0.001, beta_1=0.9, beta_2=0.999, epsilon=1e-7):\n",
    "        self.learning_rate = learning_rate\n",
    "        self.beta_1 = beta_1\n",
    "        self.beta_2 = beta_2\n",
    "        self.epsilon = epsilon\n",
    "        self.m = None  # First moment vector\n",
    "        self.v = None  # Second moment vector\n",
    "        self.t = 0     # Time step\n",
    "\n",
    "    def update(self, weights, gradients):\n",
    "        if self.m is None:\n",
    "            self.m = [np.zeros_like(w) for w in weights]\n",
    "        if self.v is None:\n",
    "            self.v = [np.zeros_like(w) for w in weights]\n",
    "\n",
    "        self.t += 1\n",
    "        for i, (w, grad) in enumerate(zip(weights, gradients)):\n",
    "            self.m[i] = self.beta_1 * self.m[i] + (1 - self.beta_1) * grad\n",
    "            self.v[i] = self.beta_2 * self.v[i] + (1 - self.beta_2) * (grad ** 2)\n",
    "\n",
    "            m_hat = self.m[i] / (1 - self.beta_1 ** self.t)\n",
    "            v_hat = self.v[i] / (1 - self.beta_2 ** self.t)\n",
    "\n",
    "            w -= self.learning_rate * m_hat / (np.sqrt(v_hat) + self.epsilon)\n"
   ]
  },
  {
   "cell_type": "code",
   "execution_count": 161,
   "metadata": {},
   "outputs": [],
   "source": [
    "def test_model(model, x_test, y_test):\n",
    "    correct = 0\n",
    "    predictions = np.argmax(model.predict(x_test), axis=0)\n",
    "    real = np.argmax(y_test, axis=0)\n",
    "    correct = np.sum(predictions == real)\n",
    "    return correct / len(x_test)"
   ]
  },
  {
   "cell_type": "code",
   "execution_count": 162,
   "metadata": {},
   "outputs": [],
   "source": [
    "def test_across(model, x_test, y_test):\n",
    "    predictions = [0, 0, 0, 0]\n",
    "    count = [0, 0, 0, 0]\n",
    "    success = [0, 0, 0, 0]\n",
    "    for x, y in zip(x_test, y_test):\n",
    "        output = model.predict_one(x)\n",
    "        pred = np.argmax(output)\n",
    "        predictions[pred] += 1\n",
    "        real = np.argmax(y)\n",
    "        count[real] += 1\n",
    "        if pred == real:\n",
    "            success[real] += 1\n",
    "    return ([pred / count[i] for i, pred in enumerate(predictions)], [succ / count[i] for i, succ in enumerate(success)])"
   ]
  },
  {
   "cell_type": "code",
   "execution_count": 168,
   "metadata": {},
   "outputs": [],
   "source": [
    "class Network(Layer):\n",
    "    def __init__(self, layers):\n",
    "        self.layers = layers\n",
    "    \n",
    "    def forward(self, input):\n",
    "        output = input\n",
    "        for layer in self.layers:\n",
    "            output = layer.forward(output)\n",
    "        return output\n",
    "    \n",
    "    def backward(self, output_error, learning_rate):\n",
    "        for layer in reversed(self.layers):\n",
    "            output_error = layer.backward(output_error, learning_rate)\n",
    "        return output_error\n",
    "\n",
    "class Model:\n",
    "    def __init__(self, network, loss, x_test, y_test):\n",
    "        self.network = Network(network)\n",
    "        self.loss = loss\n",
    "        self.x_test = x_test\n",
    "        self.y_test = y_test\n",
    "        self.train_loss = []\n",
    "        self.test_loss = []\n",
    "        self.test_acc = []\n",
    "    \n",
    "    def train(self, x_train, y_train, epochs, batch_size=32, learning_rate=1, early_stop=-1, verbose=False):\n",
    "        learning_rate /= len(x_train) / batch_size\n",
    "        for epoch in range(epochs):\n",
    "            perm = np.random.permutation(len(x_train))\n",
    "            x_train = x_train[perm]\n",
    "            y_train = y_train[perm]\n",
    "            mean_loss = 0\n",
    "            for i in range(0, len(x_train), batch_size):\n",
    "                x_batch = x_train[i:i+batch_size]\n",
    "                y_batch = y_train[i:i+batch_size]\n",
    "                output = self.network.forward(x_batch)\n",
    "                loss = self.loss.loss(y_batch, output)\n",
    "                mean_loss += loss\n",
    "                loss_gradient = self.loss.gradient(y_batch, output)\n",
    "                self.network.backward(loss_gradient, learning_rate)\n",
    "                if early_stop > 0 and len(self.test_acc) > early_stop and self.test_acc[-1] <= self.test_acc[-early_stop]:\n",
    "                    return\n",
    "            mean_loss /= len(x_train)\n",
    "            self.train_loss.append(mean_loss)\n",
    "            self.evaluate(self.x_test, self.y_test)\n",
    "            \n",
    "            if verbose:\n",
    "                print(f\"Epoch {epoch + 1} - Train loss: {round(self.train_loss[-1], 4)} - Test loss: {round(self.test_loss[-1], 4)} - Test acc: {round(self.test_acc[-1], 4)}\")\n",
    "    \n",
    "    def evaluate(self, x_test, y_test):\n",
    "        total_loss = 0\n",
    "        correct_predictions = 0\n",
    "        for x, y in zip(x_test, y_test):\n",
    "            output = self.network.forward(x)\n",
    "            total_loss += self.loss.loss(y, output)\n",
    "            if np.argmax(output) == np.argmax(y):\n",
    "                correct_predictions += 1\n",
    "        avg_loss = total_loss / len(x_test)\n",
    "        accuracy = correct_predictions / len(x_test)\n",
    "        self.test_loss.append(avg_loss)\n",
    "        self.test_acc.append(accuracy)\n",
    "\n",
    "    def predict_one(self, x_test):\n",
    "        return self.network.forward(x_test)\n",
    "\n",
    "    def predict(self, x_test):\n",
    "        y_pred = []\n",
    "        for x in x_test:\n",
    "            y_pred.append(self.network.forward(x))\n",
    "        return np.array(y_pred).squeeze()\n",
    "\n",
    "    def save(self, path):\n",
    "        with open(path, \"wb\") as f:\n",
    "            pickle.dump(self, f)\n",
    "\n",
    "    @staticmethod\n",
    "    def load(path):\n",
    "        with open(path, \"rb\") as f:\n",
    "            return pickle.load(f)\n"
   ]
  },
  {
   "cell_type": "code",
   "execution_count": 164,
   "metadata": {},
   "outputs": [
    {
     "name": "stdout",
     "output_type": "stream",
     "text": [
      "(96272, 69)\n"
     ]
    }
   ],
   "source": [
    "from parseGpt import load_chess_data\n",
    "\n",
    "x, y = load_chess_data(\"datasets/balanced.txt\")\n",
    "\n",
    "print(x.shape)\n",
    "\n",
    "def one_hot_encode(x):\n",
    "    one_hot = np.zeros((x.shape[0], 69, 13))\n",
    "    for i in range(x.shape[0]):\n",
    "        for j in range(69):\n",
    "            one_hot[i][j][x[i][j]] = 1\n",
    "    return one_hot\n",
    "\n",
    "def flatten(x):\n",
    "    return x.reshape(x.shape[0], x.shape[1] * x.shape[2])\n",
    "\n",
    "def preprocess_data(x, y, split):\n",
    "    x = one_hot_encode(x)\n",
    "    x = flatten(x)\n",
    "    x_train = x.reshape(x.shape[0], x.shape[1])\n",
    "    y_train = y.reshape(y.shape[0], y.shape[1])\n",
    "    perm = np.random.permutation(len(x_train))\n",
    "    x_train = x_train[perm]\n",
    "    y_train = y_train[perm]\n",
    "    split_index = int(split * len(x_train))\n",
    "    x_train, x_test = x_train[:split_index], x_train[split_index:]\n",
    "    y_train, y_test = y_train[:split_index], y_train[split_index:]\n",
    "    return x_train, y_train, x_test, y_test\n",
    "\n",
    "x_train, y_train, x_test, y_test = preprocess_data(x, y, 0.95)"
   ]
  },
  {
   "cell_type": "code",
   "execution_count": 170,
   "metadata": {},
   "outputs": [
    {
     "name": "stdout",
     "output_type": "stream",
     "text": [
      "Epoch 1 - Train loss: 0.0356 - Test loss: 0.8212 - Test acc: 0.3434\n",
      "Epoch 2 - Train loss: 0.0223 - Test loss: 0.6449 - Test acc: 0.3602\n",
      "Epoch 3 - Train loss: 0.0186 - Test loss: 0.5572 - Test acc: 0.3833\n",
      "Epoch 4 - Train loss: 0.0169 - Test loss: 0.5188 - Test acc: 0.398\n",
      "Epoch 5 - Train loss: 0.0161 - Test loss: 0.504 - Test acc: 0.398\n",
      "Epoch 6 - Train loss: 0.0157 - Test loss: 0.4975 - Test acc: 0.4051\n",
      "Epoch 7 - Train loss: 0.0156 - Test loss: 0.4946 - Test acc: 0.4134\n",
      "Epoch 8 - Train loss: 0.0155 - Test loss: 0.4911 - Test acc: 0.4258\n",
      "Epoch 9 - Train loss: 0.0154 - Test loss: 0.4897 - Test acc: 0.4211\n",
      "Epoch 10 - Train loss: 0.0154 - Test loss: 0.4892 - Test acc: 0.4192\n",
      "Epoch 11 - Train loss: 0.0154 - Test loss: 0.4862 - Test acc: 0.4369\n",
      "Epoch 12 - Train loss: 0.0153 - Test loss: 0.49 - Test acc: 0.425\n",
      "Epoch 13 - Train loss: 0.0153 - Test loss: 0.4837 - Test acc: 0.4339\n",
      "Epoch 14 - Train loss: 0.0153 - Test loss: 0.4835 - Test acc: 0.424\n",
      "Epoch 15 - Train loss: 0.0152 - Test loss: 0.4829 - Test acc: 0.4308\n",
      "Epoch 16 - Train loss: 0.0152 - Test loss: 0.4829 - Test acc: 0.4292\n",
      "Epoch 17 - Train loss: 0.0152 - Test loss: 0.4808 - Test acc: 0.4329\n",
      "Epoch 18 - Train loss: 0.0152 - Test loss: 0.4819 - Test acc: 0.4416\n",
      "Epoch 19 - Train loss: 0.0151 - Test loss: 0.4783 - Test acc: 0.4364\n",
      "Epoch 20 - Train loss: 0.0151 - Test loss: 0.4801 - Test acc: 0.4323\n"
     ]
    }
   ],
   "source": [
    "layers = [\n",
    "    Dense(897, 100),\n",
    "    Tanh(),\n",
    "    Dropout(0.3),\n",
    "    Dense(100, 4),\n",
    "    Sigmoid()\n",
    "]\n",
    "\n",
    "model = Model(layers, BinaryCrossEntropy(), x_test, y_test)\n",
    "test_model(model, x_test, y_test)\n",
    "model.train(x_train, y_train, 100, batch_size=64, learning_rate=1, early_stop=10, verbose=True)"
   ]
  },
  {
   "cell_type": "code",
   "execution_count": 173,
   "metadata": {},
   "outputs": [
    {
     "name": "stdout",
     "output_type": "stream",
     "text": [
      "Epoch 1 - Train loss: 0.0075 - Test loss: 0.4786 - Test acc: 0.4375\n",
      "Epoch 2 - Train loss: 0.0075 - Test loss: 0.4778 - Test acc: 0.4414\n",
      "Epoch 3 - Train loss: 0.0075 - Test loss: 0.4787 - Test acc: 0.4366\n",
      "Epoch 4 - Train loss: 0.0075 - Test loss: 0.4781 - Test acc: 0.4387\n",
      "Epoch 5 - Train loss: 0.0075 - Test loss: 0.4773 - Test acc: 0.4462\n",
      "Epoch 6 - Train loss: 0.0075 - Test loss: 0.4774 - Test acc: 0.4412\n",
      "Epoch 7 - Train loss: 0.0075 - Test loss: 0.4766 - Test acc: 0.4396\n",
      "Epoch 8 - Train loss: 0.0075 - Test loss: 0.4768 - Test acc: 0.4437\n",
      "Epoch 9 - Train loss: 0.0075 - Test loss: 0.476 - Test acc: 0.4412\n"
     ]
    },
    {
     "ename": "KeyboardInterrupt",
     "evalue": "",
     "output_type": "error",
     "traceback": [
      "\u001b[0;31m---------------------------------------------------------------------------\u001b[0m",
      "\u001b[0;31mKeyboardInterrupt\u001b[0m                         Traceback (most recent call last)",
      "Cell \u001b[0;32mIn[173], line 1\u001b[0m\n\u001b[0;32m----> 1\u001b[0m \u001b[43mmodel\u001b[49m\u001b[38;5;241;43m.\u001b[39;49m\u001b[43mtrain\u001b[49m\u001b[43m(\u001b[49m\u001b[43mx_train\u001b[49m\u001b[43m,\u001b[49m\u001b[43m \u001b[49m\u001b[43my_train\u001b[49m\u001b[43m,\u001b[49m\u001b[43m \u001b[49m\u001b[38;5;241;43m100\u001b[39;49m\u001b[43m,\u001b[49m\u001b[43m \u001b[49m\u001b[43mbatch_size\u001b[49m\u001b[38;5;241;43m=\u001b[39;49m\u001b[38;5;241;43m64\u001b[39;49m\u001b[43m,\u001b[49m\u001b[43m \u001b[49m\u001b[43mlearning_rate\u001b[49m\u001b[38;5;241;43m=\u001b[39;49m\u001b[38;5;241;43m0.1\u001b[39;49m\u001b[43m,\u001b[49m\u001b[43m \u001b[49m\u001b[43mverbose\u001b[49m\u001b[38;5;241;43m=\u001b[39;49m\u001b[38;5;28;43;01mTrue\u001b[39;49;00m\u001b[43m)\u001b[49m\n",
      "Cell \u001b[0;32mIn[168], line 36\u001b[0m, in \u001b[0;36mModel.train\u001b[0;34m(self, x_train, y_train, epochs, batch_size, learning_rate, early_stop, verbose)\u001b[0m\n\u001b[1;32m     34\u001b[0m x_batch \u001b[38;5;241m=\u001b[39m x_train[i:i\u001b[38;5;241m+\u001b[39mbatch_size]\n\u001b[1;32m     35\u001b[0m y_batch \u001b[38;5;241m=\u001b[39m y_train[i:i\u001b[38;5;241m+\u001b[39mbatch_size]\n\u001b[0;32m---> 36\u001b[0m output \u001b[38;5;241m=\u001b[39m \u001b[38;5;28;43mself\u001b[39;49m\u001b[38;5;241;43m.\u001b[39;49m\u001b[43mnetwork\u001b[49m\u001b[38;5;241;43m.\u001b[39;49m\u001b[43mforward\u001b[49m\u001b[43m(\u001b[49m\u001b[43mx_batch\u001b[49m\u001b[43m)\u001b[49m\n\u001b[1;32m     37\u001b[0m loss \u001b[38;5;241m=\u001b[39m \u001b[38;5;28mself\u001b[39m\u001b[38;5;241m.\u001b[39mloss\u001b[38;5;241m.\u001b[39mloss(y_batch, output)\n\u001b[1;32m     38\u001b[0m mean_loss \u001b[38;5;241m+\u001b[39m\u001b[38;5;241m=\u001b[39m loss\n",
      "Cell \u001b[0;32mIn[168], line 8\u001b[0m, in \u001b[0;36mNetwork.forward\u001b[0;34m(self, input)\u001b[0m\n\u001b[1;32m      6\u001b[0m output \u001b[38;5;241m=\u001b[39m \u001b[38;5;28minput\u001b[39m\n\u001b[1;32m      7\u001b[0m \u001b[38;5;28;01mfor\u001b[39;00m layer \u001b[38;5;129;01min\u001b[39;00m \u001b[38;5;28mself\u001b[39m\u001b[38;5;241m.\u001b[39mlayers:\n\u001b[0;32m----> 8\u001b[0m     output \u001b[38;5;241m=\u001b[39m \u001b[43mlayer\u001b[49m\u001b[38;5;241;43m.\u001b[39;49m\u001b[43mforward\u001b[49m\u001b[43m(\u001b[49m\u001b[43moutput\u001b[49m\u001b[43m)\u001b[49m\n\u001b[1;32m      9\u001b[0m \u001b[38;5;28;01mreturn\u001b[39;00m output\n",
      "Cell \u001b[0;32mIn[156], line 8\u001b[0m, in \u001b[0;36mDense.forward\u001b[0;34m(self, input)\u001b[0m\n\u001b[1;32m      6\u001b[0m \u001b[38;5;28;01mdef\u001b[39;00m \u001b[38;5;21mforward\u001b[39m(\u001b[38;5;28mself\u001b[39m, \u001b[38;5;28minput\u001b[39m):\n\u001b[1;32m      7\u001b[0m     \u001b[38;5;28mself\u001b[39m\u001b[38;5;241m.\u001b[39minput \u001b[38;5;241m=\u001b[39m \u001b[38;5;28minput\u001b[39m\n\u001b[0;32m----> 8\u001b[0m     \u001b[38;5;28;01mreturn\u001b[39;00m \u001b[43mnp\u001b[49m\u001b[38;5;241;43m.\u001b[39;49m\u001b[43mdot\u001b[49m\u001b[43m(\u001b[49m\u001b[38;5;28;43minput\u001b[39;49m\u001b[43m,\u001b[49m\u001b[43m \u001b[49m\u001b[38;5;28;43mself\u001b[39;49m\u001b[38;5;241;43m.\u001b[39;49m\u001b[43mweights\u001b[49m\u001b[38;5;241;43m.\u001b[39;49m\u001b[43mT\u001b[49m\u001b[43m)\u001b[49m \u001b[38;5;241m+\u001b[39m \u001b[38;5;28mself\u001b[39m\u001b[38;5;241m.\u001b[39mbias\u001b[38;5;241m.\u001b[39mT\n",
      "File \u001b[0;32m<__array_function__ internals>:200\u001b[0m, in \u001b[0;36mdot\u001b[0;34m(*args, **kwargs)\u001b[0m\n",
      "\u001b[0;31mKeyboardInterrupt\u001b[0m: "
     ]
    }
   ],
   "source": [
    "model.train(x_train, y_train, 100, batch_size=64, learning_rate=0.1, verbose=True)"
   ]
  },
  {
   "cell_type": "code",
   "execution_count": null,
   "metadata": {},
   "outputs": [
    {
     "ename": "PicklingError",
     "evalue": "Can't pickle <class '__main__.Model'>: it's not the same object as __main__.Model",
     "output_type": "error",
     "traceback": [
      "\u001b[0;31m---------------------------------------------------------------------------\u001b[0m",
      "\u001b[0;31mPicklingError\u001b[0m                             Traceback (most recent call last)",
      "Cell \u001b[0;32mIn[145], line 1\u001b[0m\n\u001b[0;32m----> 1\u001b[0m \u001b[43mmodel\u001b[49m\u001b[38;5;241;43m.\u001b[39;49m\u001b[43msave\u001b[49m\u001b[43m(\u001b[49m\u001b[38;5;124;43m\"\u001b[39;49m\u001b[38;5;124;43mmodels/model_no_hidden\u001b[39;49m\u001b[38;5;124;43m\"\u001b[39;49m\u001b[43m)\u001b[49m\n",
      "Cell \u001b[0;32mIn[139], line 82\u001b[0m, in \u001b[0;36mModel.save\u001b[0;34m(self, path)\u001b[0m\n\u001b[1;32m     80\u001b[0m \u001b[38;5;28;01mdef\u001b[39;00m \u001b[38;5;21msave\u001b[39m(\u001b[38;5;28mself\u001b[39m, path):\n\u001b[1;32m     81\u001b[0m     \u001b[38;5;28;01mwith\u001b[39;00m \u001b[38;5;28mopen\u001b[39m(path, \u001b[38;5;124m\"\u001b[39m\u001b[38;5;124mwb\u001b[39m\u001b[38;5;124m\"\u001b[39m) \u001b[38;5;28;01mas\u001b[39;00m f:\n\u001b[0;32m---> 82\u001b[0m         \u001b[43mpickle\u001b[49m\u001b[38;5;241;43m.\u001b[39;49m\u001b[43mdump\u001b[49m\u001b[43m(\u001b[49m\u001b[38;5;28;43mself\u001b[39;49m\u001b[43m,\u001b[49m\u001b[43m \u001b[49m\u001b[43mf\u001b[49m\u001b[43m)\u001b[49m\n",
      "\u001b[0;31mPicklingError\u001b[0m: Can't pickle <class '__main__.Model'>: it's not the same object as __main__.Model"
     ]
    }
   ],
   "source": [
    "model.save(\"models/model_no_hidden\")"
   ]
  },
  {
   "cell_type": "code",
   "execution_count": 172,
   "metadata": {},
   "outputs": [
    {
     "data": {
      "image/png": "[encoded data removed]",
      "text/plain": [
       "<Figure size 640x480 with 1 Axes>"
      ]
     },
     "metadata": {},
     "output_type": "display_data"
    },
    {
     "data": {
      "image/png": "[encoded data removed]",
      "text/plain": [
       "<Figure size 640x480 with 1 Axes>"
      ]
     },
     "metadata": {},
     "output_type": "display_data"
    }
   ],
   "source": [
    "plt.plot(model.train_loss)\n",
    "plt.plot(model.test_loss)\n",
    "plt.legend([\"Train\", \"Test\"])\n",
    "plt.show()\n",
    "\n",
    "plt.plot(model.test_acc)\n",
    "plt.legend([\"Train\", \"Test\"])\n",
    "plt.show()"
   ]
  },
  {
   "cell_type": "code",
   "execution_count": null,
   "metadata": {},
   "outputs": [],
   "source": [
    "model.save(\"model.npz\")"
   ]
  }
 ],
 "metadata": {
  "kernelspec": {
   "display_name": "Python 3",
   "language": "python",
   "name": "python3"
  },
  "language_info": {
   "codemirror_mode": {
    "name": "ipython",
    "version": 3
   },
   "file_extension": ".py",
   "mimetype": "text/x-python",
   "name": "python",
   "nbconvert_exporter": "python",
   "pygments_lexer": "ipython3",
   "version": "3.11.6"
  }
 },
 "nbformat": 4,
 "nbformat_minor": 2
}
