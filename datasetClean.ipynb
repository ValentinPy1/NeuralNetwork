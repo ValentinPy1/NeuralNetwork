{
 "cells": [
  {
   "cell_type": "code",
   "execution_count": 1,
   "metadata": {},
   "outputs": [],
   "source": [
    "with open(\"datagen/cleaned.txt\") as fh:\n",
    "    lines = fh.readlines()\n",
    "splitted = [line.split('|') for line in lines]\n"
   ]
  },
  {
   "cell_type": "code",
   "execution_count": 2,
   "metadata": {},
   "outputs": [
    {
     "data": {
      "text/plain": [
       "{'[0, 0, 0, 1]\\n': 46068,\n",
       " '[0, 1, 0, 0]\\n': 46068,\n",
       " '[1, 0, 0, 0]\\n': 46068,\n",
       " '[0, 0, 1, 0]\\n': 46068}"
      ]
     },
     "execution_count": 2,
     "metadata": {},
     "output_type": "execute_result"
    }
   ],
   "source": [
    "def count_each(data):\n",
    "    count = {}\n",
    "    for line in data:\n",
    "        if line[1] not in count:\n",
    "            count[line[1]] = 0\n",
    "        count[line[1]] += 1\n",
    "    return count\n",
    "count_each(splitted)"
   ]
  },
  {
   "cell_type": "code",
   "execution_count": 3,
   "metadata": {},
   "outputs": [
    {
     "data": {
      "text/plain": [
       "{'[0, 0, 0, 1]\\n': 22000,\n",
       " '[0, 1, 0, 0]\\n': 22000,\n",
       " '[1, 0, 0, 0]\\n': 22000,\n",
       " '[0, 0, 1, 0]\\n': 22000}"
      ]
     },
     "execution_count": 3,
     "metadata": {},
     "output_type": "execute_result"
    }
   ],
   "source": [
    "def balance(data):\n",
    "    count = count_each(data)\n",
    "    min_count = min(count.values())\n",
    "    for key in count:\n",
    "        count[key] = min_count\n",
    "    balanced = []\n",
    "    for line in data:\n",
    "        if count[line[1]] > 0:\n",
    "            balanced.append(line)\n",
    "            count[line[1]] -= 1\n",
    "    return balanced\n",
    "\n",
    "balanced = balance(splitted)\n",
    "count_each(balanced)"
   ]
  },
  {
   "cell_type": "code",
   "execution_count": 4,
   "metadata": {},
   "outputs": [],
   "source": [
    "with open(\"datagen/balanced.txt\", \"w\") as fh:\n",
    "    for line in balanced:\n",
    "        fh.write(\"|\".join(line))"
   ]
  },
  {
   "cell_type": "code",
   "execution_count": 5,
   "metadata": {},
   "outputs": [
    {
     "name": "stdout",
     "output_type": "stream",
     "text": [
      "184272\n"
     ]
    }
   ],
   "source": [
    "with open(\"datasets/balanced.txt\") as fh:\n",
    "    lines = fh.readlines()\n",
    "print(len(lines))"
   ]
  },
  {
   "cell_type": "code",
   "execution_count": 6,
   "metadata": {},
   "outputs": [
    {
     "name": "stdout",
     "output_type": "stream",
     "text": [
      "3k4/8/8/8/8/8/4K3/8 b - - 0 36|[0, 0, 0, 1]\n",
      "\n"
     ]
    }
   ],
   "source": [
    "def check_duplicates(data):\n",
    "    seen = set()\n",
    "    for line in data:\n",
    "        if line in seen:\n",
    "            print(line)\n",
    "        seen.add(line)\n",
    "check_duplicates(lines)"
   ]
  }
 ],
 "metadata": {
  "kernelspec": {
   "display_name": "Python 3",
   "language": "python",
   "name": "python3"
  },
  "language_info": {
   "codemirror_mode": {
    "name": "ipython",
    "version": 3
   },
   "file_extension": ".py",
   "mimetype": "text/x-python",
   "name": "python",
   "nbconvert_exporter": "python",
   "pygments_lexer": "ipython3",
   "version": "3.11.6"
  }
 },
 "nbformat": 4,
 "nbformat_minor": 2
}
