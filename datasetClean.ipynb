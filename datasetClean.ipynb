{
 "cells": [
  {
   "cell_type": "code",
   "execution_count": 5,
   "metadata": {},
   "outputs": [],
   "source": [
    "with open(\"datagen/cleaned.txt\") as fh:\n",
    "    lines = fh.readlines()\n",
    "splitted = [line.split('|') for line in lines]\n"
   ]
  },
  {
   "cell_type": "code",
   "execution_count": 6,
   "metadata": {},
   "outputs": [
    {
     "data": {
      "text/plain": [
       "{'[0, 0, 0, 1]\\n': 109712,\n",
       " '[0, 1, 0, 0]\\n': 109823,\n",
       " '[1, 0, 0, 0]\\n': 94321,\n",
       " '[0, 0, 1, 0]\\n': 24068}"
      ]
     },
     "execution_count": 6,
     "metadata": {},
     "output_type": "execute_result"
    }
   ],
   "source": [
    "def count_each(data):\n",
    "    count = {}\n",
    "    for line in data:\n",
    "        if line[1] not in count:\n",
    "            count[line[1]] = 0\n",
    "        count[line[1]] += 1\n",
    "    return count\n",
    "count_each(splitted)"
   ]
  },
  {
   "cell_type": "code",
   "execution_count": 7,
   "metadata": {},
   "outputs": [
    {
     "data": {
      "text/plain": [
       "{'[0, 0, 0, 1]\\n': 24068,\n",
       " '[0, 1, 0, 0]\\n': 24068,\n",
       " '[1, 0, 0, 0]\\n': 24068,\n",
       " '[0, 0, 1, 0]\\n': 24068}"
      ]
     },
     "execution_count": 7,
     "metadata": {},
     "output_type": "execute_result"
    }
   ],
   "source": [
    "def balance(data):\n",
    "    count = count_each(data)\n",
    "    min_count = min(count.values())\n",
    "    for key in count:\n",
    "        count[key] = min_count\n",
    "    balanced = []\n",
    "    for line in data:\n",
    "        if count[line[1]] > 0:\n",
    "            balanced.append(line)\n",
    "            count[line[1]] -= 1\n",
    "    return balanced\n",
    "\n",
    "balanced = balance(splitted)\n",
    "count_each(balanced)"
   ]
  },
  {
   "cell_type": "code",
   "execution_count": 8,
   "metadata": {},
   "outputs": [],
   "source": [
    "with open(\"datagen/balanced.txt\", \"w\") as fh:\n",
    "    for line in balanced:\n",
    "        fh.write(\"|\".join(line))"
   ]
  }
 ],
 "metadata": {
  "kernelspec": {
   "display_name": "Python 3",
   "language": "python",
   "name": "python3"
  },
  "language_info": {
   "codemirror_mode": {
    "name": "ipython",
    "version": 3
   },
   "file_extension": ".py",
   "mimetype": "text/x-python",
   "name": "python",
   "nbconvert_exporter": "python",
   "pygments_lexer": "ipython3",
   "version": "3.11.6"
  }
 },
 "nbformat": 4,
 "nbformat_minor": 2
}
