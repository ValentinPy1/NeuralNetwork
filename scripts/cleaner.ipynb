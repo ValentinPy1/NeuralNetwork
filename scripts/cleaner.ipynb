{
 "cells": [
  {
   "cell_type": "code",
   "execution_count": 11,
   "metadata": {},
   "outputs": [],
   "source": [
    "with open(\"../datasets/equiCombined.txt\") as fh:\n",
    "    lines = fh.readlines()\n",
    "splitted = [line.split('|') for line in lines]"
   ]
  },
  {
   "cell_type": "code",
   "execution_count": 19,
   "metadata": {},
   "outputs": [
    {
     "data": {
      "text/plain": [
       "{'[1, 0, 0, 0]\\n': 69440,\n",
       " '[0, 0, 1, 0]\\n': 67009,\n",
       " '[0, 0, 0, 1]\\n': 69403,\n",
       " '[0, 1, 0, 0]\\n': 69748}"
      ]
     },
     "execution_count": 19,
     "metadata": {},
     "output_type": "execute_result"
    }
   ],
   "source": [
    "def count_each(data):\n",
    "    count = {}\n",
    "    for line in data:\n",
    "        if line[1] not in count:\n",
    "            count[line[1]] = 0\n",
    "        count[line[1]] += 1\n",
    "    return count\n",
    "count_each(splitted)"
   ]
  },
  {
   "cell_type": "code",
   "execution_count": 8,
   "metadata": {},
   "outputs": [
    {
     "data": {
      "text/plain": [
       "{'[0,1,0,0]\\n': 89915,\n",
       " '[1,0,0,0]\\n': 89915,\n",
       " '[0,0,1,0]\\n': 89915,\n",
       " '[0,0,0,1]\\n': 89915}"
      ]
     },
     "execution_count": 8,
     "metadata": {},
     "output_type": "execute_result"
    }
   ],
   "source": [
    "def balance(data):\n",
    "    count = count_each(data)\n",
    "    min_count = min(count.values())\n",
    "    for key in count:\n",
    "        count[key] = min_count\n",
    "    balanced = []\n",
    "    for line in data:\n",
    "        if count[line[1]] > 0:\n",
    "            balanced.append(line)\n",
    "            count[line[1]] -= 1\n",
    "    return balanced\n",
    "\n",
    "balanced = balance(splitted)\n",
    "count_each(balanced)"
   ]
  },
  {
   "cell_type": "code",
   "execution_count": 9,
   "metadata": {},
   "outputs": [],
   "source": [
    "with open(\"balanced.txt\", \"w\") as fh:\n",
    "    for line in balanced:\n",
    "        fh.write(\"|\".join(line))"
   ]
  },
  {
   "cell_type": "code",
   "execution_count": 16,
   "metadata": {},
   "outputs": [
    {
     "data": {
      "text/plain": [
       "275600"
      ]
     },
     "execution_count": 16,
     "metadata": {},
     "output_type": "execute_result"
    }
   ],
   "source": [
    "with open(\"../datasets/equiCombined.txt\") as fh:\n",
    "    lines = fh.readlines()\n",
    "len(lines)"
   ]
  },
  {
   "cell_type": "code",
   "execution_count": 20,
   "metadata": {},
   "outputs": [
    {
     "name": "stdout",
     "output_type": "stream",
     "text": [
      "Duplicates: 1105\n",
      "Unique: 271341\n"
     ]
    }
   ],
   "source": [
    "def check_duplicates(data):\n",
    "    seen = set()\n",
    "    duplicates = set()\n",
    "    for line in data:\n",
    "        if line in seen:\n",
    "            duplicates.add(line)\n",
    "        seen.add(line)\n",
    "    return duplicates\n",
    "print(\"Duplicates:\", len(check_duplicates(lines)))\n",
    "\n",
    "def removeDuplicates(data):\n",
    "    seen = set()\n",
    "    unique = []\n",
    "    for line in data:\n",
    "        if line not in seen:\n",
    "            unique.append(line)\n",
    "        seen.add(line)\n",
    "    return unique\n",
    "unique = removeDuplicates(lines)\n",
    "print(\"Unique:\", len(unique))"
   ]
  },
  {
   "cell_type": "code",
   "execution_count": 18,
   "metadata": {},
   "outputs": [],
   "source": [
    "with open(\"unique.txt\", \"w\") as fh:\n",
    "    for line in unique:\n",
    "        fh.write(line)"
   ]
  }
 ],
 "metadata": {
  "kernelspec": {
   "display_name": "Python 3",
   "language": "python",
   "name": "python3"
  },
  "language_info": {
   "codemirror_mode": {
    "name": "ipython",
    "version": 3
   },
   "file_extension": ".py",
   "mimetype": "text/x-python",
   "name": "python",
   "nbconvert_exporter": "python",
   "pygments_lexer": "ipython3",
   "version": "3.11.6"
  }
 },
 "nbformat": 4,
 "nbformat_minor": 2
}
