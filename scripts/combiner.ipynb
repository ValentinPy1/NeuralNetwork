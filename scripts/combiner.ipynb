{
 "cells": [
  {
   "cell_type": "code",
   "execution_count": 17,
   "metadata": {},
   "outputs": [
    {
     "name": "stdout",
     "output_type": "stream",
     "text": [
      "clement.txt 188120\n",
      "jerem.txt 208352\n",
      "thomas.txt 68900\n",
      "valentin.txt 359660\n"
     ]
    }
   ],
   "source": [
    "import random\n",
    "\n",
    "paths = ['clement.txt', 'jerem.txt', 'thomas.txt', 'valentin.txt']\n",
    "datasets = []\n",
    "for path in paths:\n",
    "    with open(path, 'r') as f:\n",
    "        datasets.append(f.readlines())\n",
    "\n",
    "for i in range(len(datasets)):\n",
    "    datasets[i] = random.sample(datasets[i], len(datasets[i]))\n",
    "    print(paths[i], len(datasets[i]))\n"
   ]
  },
  {
   "cell_type": "code",
   "execution_count": 24,
   "metadata": {},
   "outputs": [],
   "source": [
    "def combine(datasets):\n",
    "    combined = []\n",
    "    for dataset in datasets:\n",
    "        combined.extend(dataset)\n",
    "    return combined\n",
    "\n",
    "def equiCombine(datasets):\n",
    "    shortest = min([len(dataset) for dataset in datasets])\n",
    "    combined = []\n",
    "    for i in range(shortest):\n",
    "        for dataset in datasets:\n",
    "            combined.append(dataset[i])\n",
    "    return combined\n",
    "\n",
    "def removeDuplicates(data):\n",
    "    seen = set()\n",
    "    unique = []\n",
    "    for line in data:\n",
    "        if line not in seen:\n",
    "            unique.append(line)\n",
    "        seen.add(line)\n",
    "    return unique\n",
    "\n",
    "def count_each(data):\n",
    "    count = {}\n",
    "    for line in data:\n",
    "        split = line.split('|')\n",
    "        if split[1] not in count:\n",
    "            count[split[1]] = 0\n",
    "        count[split[1]] += 1\n",
    "    return count\n",
    "\n",
    "def balance(data):\n",
    "    count = count_each(data)\n",
    "    min_count = min(count.values())\n",
    "    for key in count:\n",
    "        count[key] = min_count\n",
    "    balanced = []\n",
    "    for line in data:\n",
    "        split = line.split('|')\n",
    "        if count[split[1]] > 0:\n",
    "            balanced.append(line)\n",
    "            count[split[1]] -= 1\n",
    "    return balanced"
   ]
  },
  {
   "cell_type": "code",
   "execution_count": 26,
   "metadata": {},
   "outputs": [
    {
     "name": "stdout",
     "output_type": "stream",
     "text": [
      "combined 825032\n",
      "{'[0, 1, 0, 0]\\n': 208340, '[0, 0, 1, 0]\\n': 200313, '[0, 0, 0, 1]\\n': 208039, '[1, 0, 0, 0]\\n': 208340}\n",
      "unique 814913\n",
      "{'[0, 1, 0, 0]\\n': 208277, '[0, 0, 1, 0]\\n': 191041, '[0, 0, 0, 1]\\n': 207553, '[1, 0, 0, 0]\\n': 208042}\n",
      "balanced 764164\n",
      "{'[0, 1, 0, 0]\\n': 191041, '[0, 0, 1, 0]\\n': 191041, '[0, 0, 0, 1]\\n': 191041, '[1, 0, 0, 0]\\n': 191041}\n"
     ]
    }
   ],
   "source": [
    "combined = combine(datasets)\n",
    "print('combined', len(combined))\n",
    "print(count_each(combined))\n",
    "combined = removeDuplicates(combined)\n",
    "print('unique', len(combined))\n",
    "print(count_each(combined))\n",
    "combined = balance(combined)\n",
    "print('balanced', len(combined))\n",
    "print(count_each(combined))\n",
    "with open('comb.txt', 'w') as f:\n",
    "    f.writelines(combined)"
   ]
  },
  {
   "cell_type": "code",
   "execution_count": 27,
   "metadata": {},
   "outputs": [
    {
     "name": "stdout",
     "output_type": "stream",
     "text": [
      "equi combined 275600\n",
      "unique 271249\n",
      "balanced 251812\n"
     ]
    }
   ],
   "source": [
    "combined = equiCombine(datasets)\n",
    "print('equi combined', len(combined))\n",
    "combined = removeDuplicates(combined)\n",
    "print('unique', len(combined))\n",
    "combined = balance(combined)\n",
    "print('balanced', len(combined))\n",
    "with open('equiComb.txt', 'w') as f:\n",
    "    f.writelines(combined)"
   ]
  }
 ],
 "metadata": {
  "kernelspec": {
   "display_name": "Python 3",
   "language": "python",
   "name": "python3"
  },
  "language_info": {
   "codemirror_mode": {
    "name": "ipython",
    "version": 3
   },
   "file_extension": ".py",
   "mimetype": "text/x-python",
   "name": "python",
   "nbconvert_exporter": "python",
   "pygments_lexer": "ipython3",
   "version": "3.11.6"
  }
 },
 "nbformat": 4,
 "nbformat_minor": 2
}
