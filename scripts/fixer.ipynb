{
 "cells": [
  {
   "cell_type": "code",
   "execution_count": 3,
   "metadata": {},
   "outputs": [],
   "source": [
    "import chess"
   ]
  },
  {
   "cell_type": "code",
   "execution_count": 1,
   "metadata": {},
   "outputs": [
    {
     "data": {
      "text/plain": [
       "251812"
      ]
     },
     "execution_count": 1,
     "metadata": {},
     "output_type": "execute_result"
    }
   ],
   "source": [
    "file_name = \"equiComb.txt\"\n",
    "with open(file_name, \"r\") as f:\n",
    "    lines = f.readlines()\n",
    "lines = [line.strip().split('|') for line in lines]\n",
    "len(lines)"
   ]
  },
  {
   "cell_type": "code",
   "execution_count": 5,
   "metadata": {},
   "outputs": [],
   "source": [
    "def check_state(board):\n",
    "    if board.is_checkmate():\n",
    "        return '[1, 0, 0, 0]', 'checkmate'\n",
    "    elif board.is_check():\n",
    "        return '[0, 1, 0, 0]', 'check'\n",
    "    elif board.is_stalemate():\n",
    "        return '[0, 0, 1, 0]', 'stalemate'\n",
    "    else:\n",
    "        return '[0, 0, 0, 1]', 'continue'"
   ]
  },
  {
   "cell_type": "code",
   "execution_count": 6,
   "metadata": {},
   "outputs": [
    {
     "name": "stdout",
     "output_type": "stream",
     "text": [
      "0\n"
     ]
    }
   ],
   "source": [
    "wrong_state = 0\n",
    "for line in lines:\n",
    "    board = chess.Board(line[0])\n",
    "    state = check_state(board)\n",
    "    if state[0] != line[1]:\n",
    "        wrong_state += 1\n",
    "        line[1] = state[0]\n",
    "print(wrong_state)"
   ]
  },
  {
   "cell_type": "code",
   "execution_count": 26,
   "metadata": {},
   "outputs": [],
   "source": [
    "with open('thomas.txt', \"w\") as f:\n",
    "    for line in lines:\n",
    "        f.write(line[0] + '|' + line[1] + '\\n')"
   ]
  }
 ],
 "metadata": {
  "kernelspec": {
   "display_name": "Python 3",
   "language": "python",
   "name": "python3"
  },
  "language_info": {
   "codemirror_mode": {
    "name": "ipython",
    "version": 3
   },
   "file_extension": ".py",
   "mimetype": "text/x-python",
   "name": "python",
   "nbconvert_exporter": "python",
   "pygments_lexer": "ipython3",
   "version": "3.11.6"
  }
 },
 "nbformat": 4,
 "nbformat_minor": 2
}
